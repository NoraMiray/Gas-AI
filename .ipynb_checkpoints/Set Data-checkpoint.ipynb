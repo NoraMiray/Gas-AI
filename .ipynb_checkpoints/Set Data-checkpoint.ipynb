{
 "cells": [
  {
   "cell_type": "markdown",
   "id": "b3f10f23",
   "metadata": {},
   "source": [
    "# set Data :: a dataframe that have persons edited data"
   ]
  },
  {
   "cell_type": "markdown",
   "id": "317867a8",
   "metadata": {},
   "source": [
    "## A) input Data"
   ]
  },
  {
   "cell_type": "markdown",
   "id": "303dc10a",
   "metadata": {},
   "source": [
    "### A.1) input1 :: Individual data"
   ]
  },
  {
   "cell_type": "code",
   "execution_count": 88,
   "id": "4ddc3f16",
   "metadata": {},
   "outputs": [
    {
     "name": "stdout",
     "output_type": "stream",
     "text": [
      "  code usage  startday     endday loc area\n",
      "1    A    10  1399/9/1  1399/10/2   x  120\n",
      "2    B    20  1399/9/1  1399/10/2   x   90\n",
      "3    C    30 1399/10/3 1399/10/10   x  170\n"
     ]
    }
   ],
   "source": [
    "usage <- data.frame(\n",
    "    code = c('A','B','C'),\n",
    "    usage = c(10,20,30),\n",
    "    startday = c('1399/9/1','1399/9/1','1399/10/3'),\n",
    "    endday = c('1399/10/2','1399/10/2','1399/10/10'),\n",
    "    loc = c('x','x','x'),\n",
    "    area = c(120,90,170)\n",
    ")\n",
    "\n",
    "print(usage)"
   ]
  },
  {
   "cell_type": "markdown",
   "id": "08a149ce",
   "metadata": {},
   "source": [
    "### A.2) input2 :: Environmental data"
   ]
  },
  {
   "cell_type": "code",
   "execution_count": 89,
   "id": "acef2ad6",
   "metadata": {},
   "outputs": [
    {
     "name": "stdout",
     "output_type": "stream",
     "text": [
      "  temp loc      date\n",
      "1   10   x 1399/10/1\n",
      "2   11   x 1399/10/1\n",
      "3   12   x 1399/10/5\n"
     ]
    }
   ],
   "source": [
    "temp <- data.frame(\n",
    "    temp = c(10,11,12),\n",
    "    loc = c('x','x','x'),\n",
    "    date = c('1399/10/1','1399/10/1','1399/10/5')\n",
    ")\n",
    "\n",
    "\n",
    "print(temp)"
   ]
  },
  {
   "cell_type": "markdown",
   "id": "a0526258",
   "metadata": {},
   "source": [
    "## B) Make matrixes :: set Data on matrix"
   ]
  },
  {
   "cell_type": "markdown",
   "id": "5f68205b",
   "metadata": {},
   "source": [
    "### B.1) sum of temp :: calc the temp in user loc"
   ]
  },
  {
   "cell_type": "code",
   "execution_count": 90,
   "id": "15734fb7",
   "metadata": {},
   "outputs": [
    {
     "name": "stdout",
     "output_type": "stream",
     "text": [
      "[1] 21 21 12\n"
     ]
    }
   ],
   "source": [
    "Temperature <- c()\n",
    "for(o in 1:length(usage$code)){\n",
    "    s <- matrix(strtoi(unlist(strsplit(usage$startday[o],'/'))),nrow=3)\n",
    "    s <- s[1]*365+s[2]*31+s[3]\n",
    "    e <- matrix(strtoi(unlist(strsplit(usage$endday[o],'/'))),nrow=3)\n",
    "    e <- e[1]*365+e[2]*31+e[3]\n",
    "    d <- matrix(strtoi(unlist(strsplit(temp$date,'/'))),nrow=3)\n",
    "    d <- d[1,1:(length(d)/3)]*365+d[2,1:(length(d)/3)]*31+d[3,1:(length(d)/3)]\n",
    "    Temperature <- c(Temperature,c(sum(temp$temp[ifelse((s<d & d<e),temp$loc[(s<d & d<e)],'')==usage$loc[o]])))\n",
    "}\n",
    "print(Temperature)"
   ]
  },
  {
   "cell_type": "markdown",
   "id": "f54306e7",
   "metadata": {},
   "source": [
    "### B.2) set on new DataFrame :: add coefficient and day number"
   ]
  },
  {
   "cell_type": "code",
   "execution_count": 91,
   "id": "866e64a8",
   "metadata": {},
   "outputs": [
    {
     "name": "stdout",
     "output_type": "stream",
     "text": [
      "  code coefficient sDayNum eDayNum\n",
      "1    A 0.003968254     248     280\n",
      "2    B 0.010582011     248     280\n",
      "3    C 0.014705882     281     288\n"
     ]
    }
   ],
   "source": [
    "coefficient <- usage$usage/(Temperature*usage$area)\n",
    "s <- matrix(strtoi(unlist(strsplit(usage$startday,'/'))),nrow=3)\n",
    "s <- (s[2,]-1)*31+s[3,]-1\n",
    "e <- matrix(strtoi(unlist(strsplit(usage$endday,'/'))),nrow=3)\n",
    "e <- (e[2,]-1)*31+e[3,]-1\n",
    "data <- data.frame(code = usage$code,coefficient=coefficient,sDayNum= s, eDayNum = e)\n",
    "\n",
    "print(data)"
   ]
  }
 ],
 "metadata": {
  "kernelspec": {
   "display_name": "R",
   "language": "R",
   "name": "ir"
  },
  "language_info": {
   "codemirror_mode": "r",
   "file_extension": ".r",
   "mimetype": "text/x-r-source",
   "name": "R",
   "pygments_lexer": "r",
   "version": "4.1.2"
  }
 },
 "nbformat": 4,
 "nbformat_minor": 5
}
