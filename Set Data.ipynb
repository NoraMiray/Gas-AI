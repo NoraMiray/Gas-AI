{
 "cells": [
  {
   "cell_type": "markdown",
   "id": "b3f10f23",
   "metadata": {},
   "source": [
    "# set Data :: a 3D matrix that have persons data"
   ]
  },
  {
   "cell_type": "markdown",
   "id": "317867a8",
   "metadata": {},
   "source": [
    "## A) input Data"
   ]
  },
  {
   "cell_type": "markdown",
   "id": "303dc10a",
   "metadata": {},
   "source": [
    "### A.1) input1 :: Individual data"
   ]
  },
  {
   "cell_type": "code",
   "execution_count": 2,
   "id": "4ddc3f16",
   "metadata": {},
   "outputs": [
    {
     "name": "stdout",
     "output_type": "stream",
     "text": [
      "  code usage  startday    endday loc\n",
      "1    A    10 1399/10/2 1399/10/2   x\n",
      "2    B    20 1399/10/2 1399/10/2   y\n",
      "3    C    30 1399/10/2 1399/10/2   z\n"
     ]
    }
   ],
   "source": [
    "usage <- data.frame(\n",
    "    code = c('A','B','C'),\n",
    "    usage = c(10,20,30),\n",
    "    startday = c('1399/10/2','1399/10/2','1399/10/2'),\n",
    "    endday = c('1399/10/2','1399/10/2','1399/10/2'),\n",
    "    loc = c('x','y','z')\n",
    ")\n",
    "\n",
    "print(usage)"
   ]
  },
  {
   "cell_type": "markdown",
   "id": "08a149ce",
   "metadata": {},
   "source": [
    "### A.1) input2 :: Environmental data"
   ]
  },
  {
   "cell_type": "code",
   "execution_count": 3,
   "id": "acef2ad6",
   "metadata": {
    "scrolled": true
   },
   "outputs": [
    {
     "name": "stdout",
     "output_type": "stream",
     "text": [
      "  temp loc      date\n",
      "1   10   x 1399/10/1\n",
      "2   11   z 1399/10/2\n",
      "3   12   z 1399/10/1\n"
     ]
    }
   ],
   "source": [
    "temp <- data.frame(\n",
    "    temp = c(10,11,12),\n",
    "    loc = c('x','z','z'),\n",
    "    date = c('1399/10/1','1399/10/2','1399/10/1')\n",
    ")\n",
    "\n",
    "\n",
    "print(temp)"
   ]
  },
  {
   "cell_type": "markdown",
   "id": "a0526258",
   "metadata": {},
   "source": [
    "## B) Make matrixes :: set Data on matrix"
   ]
  },
  {
   "cell_type": "markdown",
   "id": "5a85e215",
   "metadata": {},
   "source": [
    "### B.1) found temp :: if temp loc == user loc and temp time in user days"
   ]
  },
  {
   "cell_type": "code",
   "execution_count": 25,
   "id": "15734fb7",
   "metadata": {},
   "outputs": [
    {
     "name": "stdout",
     "output_type": "stream",
     "text": [
      "[1] TRUE\n",
      "[1] TRUE\n",
      "[1] TRUE\n"
     ]
    }
   ],
   "source": [
    "f <- function(start,end){\n",
    "    s <- matrix(strtoi(unlist(strsplit(temp$date,'/'))) - strtoi(unlist(strsplit(start,'/'))),nrow=3)\n",
    "    e <- matrix(strtoi(unlist(strsplit(end,'/'))) - strtoi(unlist(strsplit(temp$date,'/'))),nrow = 3)\n",
    "    for(o in 1:length(temp$date)){\n",
    "        print(((s*e)[1:3,o])[1]*365+((s*e)[1:3,o])[2]*30+((s*e)[1:3,o])[3]>=0)\n",
    "    }\n",
    "}\n",
    "\n",
    "\n",
    "f('1399/5/6','1399/11/3')"
   ]
  },
  {
   "cell_type": "code",
   "execution_count": null,
   "id": "798ee7a7",
   "metadata": {},
   "outputs": [],
   "source": []
  }
 ],
 "metadata": {
  "kernelspec": {
   "display_name": "R",
   "language": "R",
   "name": "ir"
  }
 },
 "nbformat": 4,
 "nbformat_minor": 5
}
