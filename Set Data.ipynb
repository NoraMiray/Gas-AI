{
 "cells": [
  {
   "cell_type": "markdown",
   "id": "b3f10f23",
   "metadata": {},
   "source": [
    "# set Data :: a dataframe that have persons edited data"
   ]
  },
  {
   "cell_type": "markdown",
   "id": "317867a8",
   "metadata": {},
   "source": [
    "## A) input Data"
   ]
  },
  {
   "cell_type": "markdown",
   "id": "303dc10a",
   "metadata": {},
   "source": [
    "### A.1) input1 :: Individual data"
   ]
  },
  {
   "cell_type": "code",
   "execution_count": 186,
   "id": "4ddc3f16",
   "metadata": {},
   "outputs": [
    {
     "name": "stdout",
     "output_type": "stream",
     "text": [
      "  code usage  startday     endday loc area\n",
      "1    A    20  1399/9/1  1399/10/2   x  120\n",
      "2    A    20  1399/9/1  1399/10/2   x   90\n",
      "3    B    30 1399/10/3 1399/10/10   x  170\n"
     ]
    }
   ],
   "source": [
    "usage <- data.frame(\n",
    "    code = c('A','A','B'),\n",
    "    usage = c(20,20,30),\n",
    "    startday = c('1399/9/1','1399/9/1','1399/10/3'),\n",
    "    endday = c('1399/10/2','1399/10/2','1399/10/10'),\n",
    "    loc = c('x','x','x'),\n",
    "    area = c(120,90,170)\n",
    ")\n",
    "\n",
    "print(usage)"
   ]
  },
  {
   "cell_type": "markdown",
   "id": "08a149ce",
   "metadata": {},
   "source": [
    "### A.2) input2 :: Environmental data"
   ]
  },
  {
   "cell_type": "code",
   "execution_count": 187,
   "id": "acef2ad6",
   "metadata": {},
   "outputs": [
    {
     "name": "stdout",
     "output_type": "stream",
     "text": [
      "  temp loc      date\n",
      "1   10   x 1399/10/1\n",
      "2   11   x 1399/10/1\n",
      "3   12   x 1399/10/5\n"
     ]
    }
   ],
   "source": [
    "temp <- data.frame(\n",
    "    temp = c(10,11,12),\n",
    "    loc = c('x','x','x'),\n",
    "    date = c('1399/10/1','1399/10/1','1399/10/5')\n",
    ")\n",
    "\n",
    "\n",
    "print(temp)"
   ]
  },
  {
   "cell_type": "markdown",
   "id": "a0526258",
   "metadata": {},
   "source": [
    "## B) Make matrixes :: set Data on matrix"
   ]
  },
  {
   "cell_type": "markdown",
   "id": "5f68205b",
   "metadata": {},
   "source": [
    "### B.1) a function :: split the date and convert to matrix"
   ]
  },
  {
   "cell_type": "code",
   "execution_count": 188,
   "id": "3a608003",
   "metadata": {},
   "outputs": [
    {
     "name": "stdout",
     "output_type": "stream",
     "text": [
      "     [,1]\n",
      "[1,] 1399\n",
      "[2,]    9\n",
      "[3,]    5\n"
     ]
    }
   ],
   "source": [
    ".calc <- function(x){\n",
    "    return(matrix(strtoi(unlist(strsplit(x,'/'))),nrow=3))\n",
    "}\n",
    "print(.calc(\"1399/9/5\"))"
   ]
  },
  {
   "cell_type": "markdown",
   "id": "b1642ee2",
   "metadata": {},
   "source": [
    "### B.2) sum of temp :: calc the temp in user loc"
   ]
  },
  {
   "cell_type": "code",
   "execution_count": 189,
   "id": "15734fb7",
   "metadata": {},
   "outputs": [
    {
     "name": "stdout",
     "output_type": "stream",
     "text": [
      "[1] 21 21 12\n"
     ]
    }
   ],
   "source": [
    "temp.sum <- c()\n",
    "for(o in 1:length(usage$code)){\n",
    "    s <- .calc(usage$startday[o])\n",
    "    s <- s[1]*365+s[2]*31+s[3]\n",
    "    e <- .calc(usage$endday[o])\n",
    "    e <- e[1]*365+e[2]*31+e[3]\n",
    "    d <- .calc(temp$date)\n",
    "    d <- d[1,1:(length(d)/3)]*365+d[2,1:(length(d)/3)]*31+d[3,1:(length(d)/3)]\n",
    "    temp.sum <- c(temp.sum,c(sum(temp$temp[ifelse((s<d & d<e),temp$loc[(s<d & d<e)],'')==usage$loc[o]])))\n",
    "}\n",
    "print(temp.sum)"
   ]
  },
  {
   "cell_type": "markdown",
   "id": "f54306e7",
   "metadata": {},
   "source": [
    "### B.3) accustomed temp :: calc accustomed temperature with the lowest consumption interval temperature"
   ]
  },
  {
   "cell_type": "code",
   "execution_count": 190,
   "id": "b6c6aa2a",
   "metadata": {},
   "outputs": [
    {
     "name": "stdout",
     "output_type": "stream",
     "text": [
      "[1] 0.312500 0.312500 1.714286\n"
     ]
    }
   ],
   "source": [
    "temp.hab <- c()\n",
    "for(o in usage$code){\n",
    "    num <- (1:length(usage$code))[usage$code == o][match(min(usage$usage[usage$code == o]),\n",
    "                                                                 usage$usage[usage$code == o])]\n",
    "    days <- .calc(usage$endday[num])-.calc(usage$startday[num])\n",
    "    days <- days[1]*365+days[2]*31+days[3]\n",
    "    temp.hab <- c(temp.hab,temp$temp[num]/days)\n",
    "}\n",
    "print(temp.hab)"
   ]
  },
  {
   "cell_type": "markdown",
   "id": "2a9ee9ca",
   "metadata": {},
   "source": [
    "### B.4) set on new DataFrame :: add coefficient and day number"
   ]
  },
  {
   "cell_type": "code",
   "execution_count": 191,
   "id": "866e64a8",
   "metadata": {},
   "outputs": [
    {
     "name": "stdout",
     "output_type": "stream",
     "text": [
      "  code coefficient sDayNum eDayNum\n",
      "1    A  0.01515152     248     280\n",
      "2    A  0.02020202     248     280\n",
      "3    B         Inf     281     288\n"
     ]
    }
   ],
   "source": [
    "days <- .calc(usage$endday)-.calc(usage$startday)\n",
    "days <- days[1,]*365+days[2,]*31+days[3,]\n",
    "coefficient <- usage$usage/((temp.sum-(temp.hab*days))*usage$area)\n",
    "# See the formula for more information from the code above\n",
    "s <- .calc(usage$startday)\n",
    "s <- (s[2,]-1)*31+s[3,]-1\n",
    "e <- .calc(usage$endday)\n",
    "e <- (e[2,]-1)*31+e[3,]-1\n",
    "data <- data.frame(code = usage$code,coefficient=coefficient,sDayNum= s, eDayNum = e)\n",
    "\n",
    "print(data)"
   ]
  }
 ],
 "metadata": {
  "kernelspec": {
   "display_name": "R",
   "language": "R",
   "name": "ir"
  },
  "language_info": {
   "codemirror_mode": "r",
   "file_extension": ".r",
   "mimetype": "text/x-r-source",
   "name": "R",
   "pygments_lexer": "r",
   "version": "4.1.2"
  }
 },
 "nbformat": 4,
 "nbformat_minor": 5
}
